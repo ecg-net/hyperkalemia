{
 "cells": [
  {
   "cell_type": "code",
   "execution_count": 1,
   "id": "a817827c",
   "metadata": {},
   "outputs": [],
   "source": [
    "import pandas as pd\n",
    "import numpy as np\n",
    "import os\n",
    "import matplotlib.pyplot as plt\n",
    "from datetime import timedelta\n",
    "from sklearn.metrics import roc_auc_score, roc_curve, auc\n",
    "from scipy import stats\n",
    "import seaborn as sns"
   ]
  },
  {
   "cell_type": "code",
   "execution_count": null,
   "id": "2857f69e",
   "metadata": {},
   "outputs": [],
   "source": [
    "df = pd.read_csv('your/prediction/result/with/subgroup/columns')"
   ]
  },
  {
   "cell_type": "code",
   "execution_count": null,
   "id": "27005a79",
   "metadata": {},
   "outputs": [],
   "source": [
    "## prepare columns for each subgroup for [0,1]\n",
    "\n",
    "column_list = ['Age_65_older', 'Male', 'HTN', 'DM', 'CAD', 'HF','Af', 'all']"
   ]
  },
  {
   "cell_type": "code",
   "execution_count": 2,
   "id": "58f6622b",
   "metadata": {},
   "outputs": [],
   "source": [
    "def calculate_auc_95ci(y_true, y_pred):\n",
    "    \"\"\"\n",
    "    Calculate the AUC and its 95% confidence interval.\n",
    "    \"\"\"\n",
    "    auc = roc_auc_score(y_true, y_pred)\n",
    "    n1 = sum(y_true)\n",
    "    n2 = len(y_true) - n1\n",
    "    q1 = auc / (2 - auc)\n",
    "    q2 = 2*auc**2 / (1 + auc)\n",
    "    se_auc = np.sqrt((auc*(1 - auc) + (n1 - 1)*(q1 - auc**2) + (n2 - 1)*(q2 - auc**2)) / (n1*n2))\n",
    "    ci = stats.norm.interval(0.95, loc=auc, scale=se_auc)\n",
    "    return auc, ci"
   ]
  },
  {
   "cell_type": "code",
   "execution_count": null,
   "id": "a5330ceb",
   "metadata": {},
   "outputs": [],
   "source": [
    "means = []\n",
    "conf_intervals = []\n",
    "\n",
    "for column in column_list:\n",
    "    \n",
    "    if column == 'all':\n",
    "        auc, ci = calculate_auc_95ci(df['K_6.5'], df['mean_prediction'])\n",
    "        means.append(auc)\n",
    "        conf_intervals.append(ci)\n",
    "        \n",
    "    else:\n",
    "        ## calculate the auc[95%CI] for rows in positive subgroup\n",
    "        df_filter = df[df[column] == 1]\n",
    "        auc, ci = calculate_auc_95ci(df_filter['K_6.5'], df_filter['mean_prediction'])\n",
    "        means.append(auc)\n",
    "        conf_intervals.append(ci)\n",
    "        \n",
    "        ## calculate the auc[95%CI] for rows in negative subgroup\n",
    "        df_filter = df[df[column] == 0]\n",
    "        auc, ci = calculate_auc_95ci(df_filter['K_6.5'], df_filter['mean_prediction'])\n",
    "        means.append(auc)\n",
    "        conf_intervals.append(ci)"
   ]
  },
  {
   "cell_type": "code",
   "execution_count": null,
   "id": "0b9239d3",
   "metadata": {},
   "outputs": [],
   "source": [
    "categories = [\n",
    "    'Age ≥65 years', 'Age <65 years', 'Male sex', 'Female sex', 'Hypertension', 'Without hypertension', \n",
    "    'Diabetes', 'Without diabetes', 'CAD', 'Without CAD', 'Heart failure', \n",
    "    'Without Heart failure', 'Af', 'Without Af', 'Overall']\n",
    "\n",
    "\n",
    "# Plot\n",
    "fig, ax = plt.subplots(figsize=(10, 10))\n",
    "\n",
    "# Adding horizontal lines for each category\n",
    "for i, (mean, conf_int) in enumerate(zip(means, conf_intervals)):\n",
    "    ax.plot(conf_int, [i, i], color='black')\n",
    "    ax.plot(mean, i, 's', color='black')\n",
    "    \n",
    "# Add a dotted vertical line at the mean of the overall category\n",
    "overall_mean = means[-1]  # Assuming the last mean is the overall\n",
    "ax.axvline(x=overall_mean, color='grey', linestyle='--', linewidth=2)\n",
    "\n",
    "# Add a line for the overall estimate\n",
    "ax.plot(conf_intervals[-1], [len(conf_intervals) - 1, len(conf_intervals) - 1], color='black', linewidth=2)\n",
    "ax.plot(overall_mean, len(means) - 1, 'D', color='black')  # 'D' for diamond shape\n",
    "\n",
    "\n",
    "# Inverting y-axis so that the overall is at the bottom\n",
    "ax.invert_yaxis()\n",
    "\n",
    "# Setting the y-ticks to be the categories\n",
    "ax.set_yticks(range(len(categories)))\n",
    "ax.set_yticklabels(categories)\n",
    "ax.tick_params(axis='y', labelsize=14)\n",
    "ax.tick_params(axis='x', labelsize=14)\n",
    "\n",
    "# Adding labels and title (if needed)\n",
    "ax.set_title('AUC (95% CI)', fontsize=16)\n",
    "\n",
    "# Set the range for the x-axis\n",
    "ax.set_xlim(0.2, 1.0)\n",
    "\n",
    "# Show the plot\n",
    "plt.show()"
   ]
  }
 ],
 "metadata": {
  "kernelspec": {
   "display_name": "Python 3 (ipykernel)",
   "language": "python",
   "name": "python3"
  },
  "language_info": {
   "codemirror_mode": {
    "name": "ipython",
    "version": 3
   },
   "file_extension": ".py",
   "mimetype": "text/x-python",
   "name": "python",
   "nbconvert_exporter": "python",
   "pygments_lexer": "ipython3",
   "version": "3.8.13"
  }
 },
 "nbformat": 4,
 "nbformat_minor": 5
}
